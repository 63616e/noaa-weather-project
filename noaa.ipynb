{
 "cells": [
  {
   "cell_type": "code",
   "execution_count": 7,
   "metadata": {},
   "outputs": [],
   "source": [
    "from noaa_sdk import NOAA\n",
    "import numpy as np\n",
    "import matplotlib.pyplot as plt\n",
    "import plotly.express as px\n",
    "import plotly.io as pio\n",
    "from IPython.display import HTML\n",
    "import kaleido\n",
    "\n",
    "plt.rcParams[\"figure.figsize\"] = (20,10)\n",
    "n = NOAA()\n",
    "res = n.get_forecasts('30609', 'US', type='forecastHourly')\n",
    "\n",
    "\n",
    "endTime =[]\n",
    "startTime = []\n",
    "temperature = []\n",
    "for i in res:\n",
    "    temperature.append(i['temperature'])\n",
    "    endTime.append(i['endTime'][-14:])\n",
    "    startTime.append(i['startTime'][-14:])\n",
    "\n",
    "endTimeFormatted = []\n",
    "startTimeFormatted = []\n",
    "# temperature\n",
    "for i in range(len(temperature)):\n",
    "    endTimeFormatted.append(endTime[i][0:5])\n",
    "    startTimeFormatted.append(startTime[i][0:5])\n",
    "    "
   ]
  },
  {
   "cell_type": "code",
   "execution_count": 8,
   "metadata": {},
   "outputs": [],
   "source": [
    "\n",
    "#box plot to give average \n",
    "fig1 = px.box(endTimeFormatted, temperature, points=False, title='Temperature Box Plot')\n",
    "#fig.show()\n",
    "fig1.write_html(\"./fig1.html\")\n",
    "fig1.write_image(\"./fig1.svg\")\n",
    "\n"
   ]
  },
  {
   "cell_type": "markdown",
   "metadata": {},
   "source": [
    "![]<img src=\"./fig1.svg\">"
   ]
  }
 ],
 "metadata": {
  "interpreter": {
   "hash": "38cca0c38332a56087b24af0bc80247f4fced29cb4f7f437d91dc159adec9c4e"
  },
  "kernelspec": {
   "display_name": "Python 3.8.8 64-bit ('base': conda)",
   "language": "python",
   "name": "python3"
  },
  "language_info": {
   "codemirror_mode": {
    "name": "ipython",
    "version": 3
   },
   "file_extension": ".py",
   "mimetype": "text/x-python",
   "name": "python",
   "nbconvert_exporter": "python",
   "pygments_lexer": "ipython3",
   "version": "3.9.7"
  },
  "orig_nbformat": 4
 },
 "nbformat": 4,
 "nbformat_minor": 2
}
